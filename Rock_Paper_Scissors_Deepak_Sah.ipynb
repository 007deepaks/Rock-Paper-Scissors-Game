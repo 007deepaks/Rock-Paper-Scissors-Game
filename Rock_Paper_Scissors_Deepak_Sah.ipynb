{
  "cells": [
    {
      "cell_type": "code",
      "execution_count": null,
      "metadata": {
        "id": "OpUlNGzIDNun"
      },
      "outputs": [],
      "source": [
        "# Hey there, run this code to play Rock-Paper-Scissors !!\n",
        "\n",
        "import random\n",
        "options = ['rock', 'paper', 'scissors'] # list of options to play the game\n",
        "computer_choice = random.choice(options) # computer makes its choice from the options\n",
        "total_won, total_loss, total_tie = 0, 0, 0 # initialize the score tracker\n",
        "\n",
        "def play_game():\n",
        "    \"\"\"\n",
        "    The main game logic, where user and computer play Rock-Paper-Scissors and \n",
        "    the winner is determined. The outcome is updated in the score tracker.\n",
        "    \"\"\"\n",
        "    computer_choice = random.choice(options)\n",
        "    global total_won, total_loss, total_tie\n",
        "\n",
        "    while True:\n",
        "        user_choice = input(\"Choose 'Rock', 'Paper' or 'Scissors': \\n\" \n",
        "                            '(case-insensitive): ').lower()\n",
        "        if user_choice in options:\n",
        "            break\n",
        "            \n",
        "        else:\n",
        "            print(\"Invalid input, Please enter 'Rock', 'Paper' or \"\n",
        "                   \"'Scissors' only\")\n",
        "            print('---------------------------------------------------')\n",
        "\n",
        "    print(f\"You chose {user_choice.capitalize()}, \" \n",
        "          f\"The computer chose {computer_choice.capitalize()}\")\n",
        "\n",
        "    def check_win(user_choice, computer_choice):\n",
        "        outcomes = {\n",
        "            \"rock\": {\"scissors\": \"user\", \"rock\": \"tie\", \"paper\": \"computer\"},\n",
        "            \"paper\": {\"rock\": \"user\", \"paper\": \"tie\", \"scissors\": \"computer\"},\n",
        "            \"scissors\": {\"paper\": \"user\", \"scissors\": \"tie\", \"rock\": \"computer\"}\n",
        "        }\n",
        "        return outcomes[user_choice][computer_choice]\n",
        "\n",
        "    outcome = check_win(user_choice, computer_choice)\n",
        "    if outcome == 'tie':\n",
        "        print(f\"You both choose {user_choice.capitalize()}, It's a tie!\")\n",
        "        total_tie += 1\n",
        "    elif outcome == 'user':\n",
        "        print(f\"{user_choice.capitalize()} beats \"\n",
        "              f\"{computer_choice.capitalize()}: You Win!\")\n",
        "        total_won += 1 \n",
        "    elif outcome == 'computer':\n",
        "        print(f\"{computer_choice.capitalize()} beats \"\n",
        "              f\"{user_choice.capitalize()}: Computer wins!\")\n",
        "        total_loss += 1\n",
        "    print('---------------------------------------------------')\n",
        "    play_again = input(\"Enter any key to play again \\n\"\n",
        "                       'or 1 to stop: ')\n",
        "\n",
        "    if play_again == '1':\n",
        "        print('Thanks for playing!')\n",
        "        print(f\"You won {total_won} times\\nYou tied {total_tie} times\")\n",
        "        print(\"Computer won\", total_loss, \"times\")\n",
        "    else:\n",
        "        computer_choice = random.choice(options)\n",
        "        play_game()\n",
        "play_game()"
      ]
    }
  ],
  "metadata": {
    "colab": {
      "provenance": []
    },
    "kernelspec": {
      "display_name": "Python 3",
      "name": "python3"
    },
    "language_info": {
      "name": "python"
    }
  },
  "nbformat": 4,
  "nbformat_minor": 0
}